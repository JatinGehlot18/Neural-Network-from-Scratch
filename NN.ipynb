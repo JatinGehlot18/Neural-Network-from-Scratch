{
 "cells": [
  {
   "cell_type": "code",
   "execution_count": 23,
   "metadata": {},
   "outputs": [],
   "source": [
    "import numpy as np\n",
    "from random import random\n",
    "import matplotlib.pyplot as plt\n",
    "%matplotlib notebook\n",
    "%matplotlib inline"
   ]
  },
  {
   "cell_type": "code",
   "execution_count": 24,
   "metadata": {},
   "outputs": [],
   "source": [
    "class Neural_Network(object):\n",
    "    \n",
    "    def __init__(self,inum=1, hidden=[3,3],onum=1):\n",
    "        \n",
    "        self.inum = inum\n",
    "        self.hidden=hidden\n",
    "        self.onum=onum\n",
    "        \n",
    "        layer = [inum] + hidden + [onum]\n",
    "        # creating weight array\n",
    "        weight = []\n",
    "        for i in range(len(layer)-1):\n",
    "            w= np.random.rand(layer[i],layer[i+1])\n",
    "            weight.append(w)\n",
    "        self.weight=weight\n",
    "        \n",
    "        # derivate of layers\n",
    "        deri=[]\n",
    "        for i in range(len(layer)-1):\n",
    "            e= np.zeros((layer[i],layer[i+1]))\n",
    "            deri.append(e)\n",
    "        self.deri=deri\n",
    "        \n",
    "        # activation function\n",
    "        acti=[]\n",
    "        for i in range(len(layer)):\n",
    "            f=np.zeros(layer[i])\n",
    "            acti.append(f)\n",
    "        self.acti=acti\n",
    "        \n",
    "    \n",
    "    def forword_propagation(self,inputs):\n",
    "        \n",
    "        acti=inputs\n",
    "        self.acti[0]=acti # for back propogation\n",
    "        for i, w in enumerate(self.weight):\n",
    "            net_inputs = np.dot(acti,w)\n",
    "            acti=self._sigmoid(net_inputs)\n",
    "            self.acti[i+1]=acti\n",
    "        \n",
    "        return acti\n",
    "    \n",
    "    def back_propogation(self,mse):\n",
    "        \n",
    "        for i in reversed(range(len(self.deri))):\n",
    "            acti=self.acti[i+1]\n",
    "            D=mse*self._sigmoid_deri(acti)\n",
    "            re_D=D.reshape(D.shape[0],-1).T\n",
    "            re_acti=self.acti[i]\n",
    "            re_acti=re_acti.reshape(re_acti.shape[0],-1)\n",
    "            self.deri[i]=np.dot(re_acti,re_D)\n",
    "            mse=np.dot(D,self.weight[i].T)\n",
    "            \n",
    "    \n",
    "    def train_network(self,inputs,target,epoch,rate):\n",
    "        \n",
    "        for i in range(epoch):\n",
    "            errors=0\n",
    "            for j, input in enumerate(inputs):\n",
    "                tar=target[j]\n",
    "                out=self.forword_propagation(input)\n",
    "                error=tar-out\n",
    "                self.back_propogation(error)\n",
    "                self.gradient_decent(rate)\n",
    "                errors = errors + self._mse(tar,out)\n",
    "        print(errors)\n",
    "    \n",
    "    def gradient_decent(self,rate):\n",
    "        \n",
    "        for i in range(len(self.weight)):\n",
    "            weight=self.weight[i]\n",
    "            deri=self.deri[i]\n",
    "            weight= weight+deri*rate\n",
    "    \n",
    "    def _sigmoid(self,x):\n",
    "        y=1.0/(1+np.exp(-x))\n",
    "        return y\n",
    "    \n",
    "    def _sigmoid_deri(self,x):\n",
    "        return x*(1.0-x)\n",
    "    \n",
    "    def _mse(self,tar,out):\n",
    "        mse=np.average((tar-out)**2)\n",
    "        return mse        "
   ]
  },
  {
   "cell_type": "code",
   "execution_count": 25,
   "metadata": {},
   "outputs": [
    {
     "name": "stdout",
     "output_type": "stream",
     "text": [
      "717.3989516915111\n"
     ]
    }
   ],
   "source": [
    "k=12\n",
    "m=31\n",
    "w=np.sqrt(k/m)\n",
    "t=np.linspace(0,np.pi/w,100)\n",
    "d=5*np.sin(w*t)\n",
    "t=np.array(t).reshape(100,1)\n",
    "d=np.array(d).reshape(100,1)\n",
    "\n",
    "layer=[6,6,6]\n",
    "neural=Neural_Network(1,layer,1)\n",
    "\n",
    "mse=neural.train_network(t,d,100,0.05)"
   ]
  },
  {
   "cell_type": "code",
   "execution_count": 28,
   "metadata": {},
   "outputs": [
    {
     "data": {
      "image/png": "[encoded data removed]",
      "text/plain": [
       "<Figure size 432x288 with 1 Axes>"
      ]
     },
     "metadata": {
      "needs_background": "light"
     },
     "output_type": "display_data"
    }
   ],
   "source": [
    "output=neural.forword_propagation(t)\n",
    "plt.plot(t,output,'r--')\n",
    "plt.plot(t,d,'b--')\n",
    "plt.xlabel(\"time\")\n",
    "plt.ylabel(\"disp\")\n",
    "plt.show()"
   ]
  },
  {
   "cell_type": "code",
   "execution_count": null,
   "metadata": {},
   "outputs": [],
   "source": []
  }
 ],
 "metadata": {
  "kernelspec": {
   "display_name": "Python 3",
   "language": "python",
   "name": "python3"
  },
  "language_info": {
   "codemirror_mode": {
    "name": "ipython",
    "version": 3
   },
   "file_extension": ".py",
   "mimetype": "text/x-python",
   "name": "python",
   "nbconvert_exporter": "python",
   "pygments_lexer": "ipython3",
   "version": "3.8.3"
  }
 },
 "nbformat": 4,
 "nbformat_minor": 4
}
