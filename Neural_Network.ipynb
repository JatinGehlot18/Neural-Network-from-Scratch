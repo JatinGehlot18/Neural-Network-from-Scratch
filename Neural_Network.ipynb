{
 "cells": [
  {
   "cell_type": "code",
   "execution_count": 1,
   "metadata": {},
   "outputs": [],
   "source": [
    "import numpy as np\n",
    "import pandas as pd\n",
    "import h5py\n",
    "from scipy.special import xlogy\n",
    "from sklearn.metrics import accuracy_score"
   ]
  },
  {
   "cell_type": "code",
   "execution_count": 2,
   "metadata": {},
   "outputs": [],
   "source": [
    "def sigmoid(z):\n",
    "    return 1/(1+np.power(np.e,-z))"
   ]
  },
  {
   "cell_type": "code",
   "execution_count": 3,
   "metadata": {},
   "outputs": [],
   "source": [
    "def sigmoid_prime(z):\n",
    "    return (1-np.power(z,2))"
   ]
  },
  {
   "cell_type": "code",
   "execution_count": 4,
   "metadata": {},
   "outputs": [],
   "source": [
    "def initialize_neural_network(x):\n",
    "    np.random.seed(999)\n",
    "    w=np.random.randn(x.shape[1],1)*0.01\n",
    "    b=0\n",
    "    \n",
    "    return {'w':w,'b':b}"
   ]
  },
  {
   "cell_type": "code",
   "execution_count": 20,
   "metadata": {},
   "outputs": [],
   "source": [
    "def forward_prop(x,params):\n",
    "    w=params['w']\n",
    "    b=params['b']\n",
    "    z=np.dot(x,w)+b\n",
    "    a=sigmoid(z)\n",
    "    \n",
    "    return {'z':z,'a':a}"
   ]
  },
  {
   "cell_type": "code",
   "execution_count": 21,
   "metadata": {},
   "outputs": [],
   "source": [
    "def backward_prop(x,y,cache):\n",
    "    z=cache['z']\n",
    "    a=cache['a']\n",
    "    m=x.shape[0]\n",
    "    dz=a-y\n",
    "    dw=(1.0/m)*np.dot(x.T,dz)\n",
    "    db=(1.0/m)*np.sum(dz)\n",
    "    \n",
    "    return {'dz':dz,'dw':dw,'db':db}"
   ]
  },
  {
   "cell_type": "code",
   "execution_count": 7,
   "metadata": {},
   "outputs": [],
   "source": [
    "def update_weights(params,changes,learning_rate=0.001):\n",
    "    w=params['w']\n",
    "    b=params['b']\n",
    "    dw=changes['dw']\n",
    "    db=changes['db']\n",
    "    \n",
    "    w=w-learning_rate*dw\n",
    "    b=b-learning_rate*db\n",
    "    \n",
    "    return {'w':w,'b':b}"
   ]
  },
  {
   "cell_type": "code",
   "execution_count": 28,
   "metadata": {},
   "outputs": [],
   "source": [
    "def calculate_loss(cache,y):\n",
    "    a=cache['a']\n",
    "    m=y.shape[0]\n",
    "    \n",
    "    return -1/m*np.sum(xlogy(y,a)+xlogy(1-y,1-a))"
   ]
  },
  {
   "cell_type": "code",
   "execution_count": 11,
   "metadata": {},
   "outputs": [],
   "source": [
    "# from sklearn.model_selection import train_test_split\n",
    "def load_dataset():\n",
    "    train_dataset = h5py.File('datasets/train_catvnoncat.h5', \"r\")\n",
    "    train_set_x_orig = np.array(train_dataset[\"train_set_x\"][:])\n",
    "    train_set_y_orig = np.array(train_dataset[\"train_set_y\"][:])\n",
    "\n",
    "    test_dataset = h5py.File('datasets/test_catvnoncat.h5', \"r\")\n",
    "    test_set_x_orig = np.array(test_dataset[\"test_set_x\"][:])\n",
    "    test_set_y_orig = np.array(test_dataset[\"test_set_y\"][:])\n",
    "\n",
    "    classes = np.array(test_dataset[\"list_classes\"][:])\n",
    "\n",
    "    return train_set_x_orig, train_set_y_orig, test_set_x_orig, test_set_y_orig, classes\n",
    "\n",
    "#     dataSet = pd.read_csv('Data.csv')\n",
    "#     x = dataSet.iloc[: , :-1].values  # take all line, all colums except last colum from table\n",
    "#     y = dataSet.iloc[:, -1].values\n",
    "#     x_train,x_test,y_train,y_test = train_test_split(x,y,test_size=0.2,random_state=1)\n",
    "#     return x_train,y_train,x_test,y_test    "
   ]
  },
  {
   "cell_type": "code",
   "execution_count": 32,
   "metadata": {},
   "outputs": [],
   "source": [
    "x_train,y_train,x_test,y_test,classes = load_dataset()"
   ]
  },
  {
   "cell_type": "code",
   "execution_count": 23,
   "metadata": {},
   "outputs": [
    {
     "name": "stdout",
     "output_type": "stream",
     "text": [
      "(209, 64, 64, 3)\n",
      "(209,)\n",
      "(50, 64, 64, 3)\n",
      "(50,)\n"
     ]
    }
   ],
   "source": [
    "print(x_train.shape)\n",
    "print(y_train.shape)\n",
    "print(x_test.shape)\n",
    "print(y_test.shape)"
   ]
  },
  {
   "cell_type": "code",
   "execution_count": 25,
   "metadata": {},
   "outputs": [],
   "source": [
    "x_train = x_train.reshape(x_train.shape[0], -1)/255.\n",
    "x_test = x_test.reshape(x_test.shape[0], -1)/255.\n",
    "y_train = y_train.reshape(-1, 1)\n",
    "y_test = y_test.reshape(-1, 1)"
   ]
  },
  {
   "cell_type": "code",
   "execution_count": 26,
   "metadata": {},
   "outputs": [],
   "source": [
    "epochs=1000\n",
    "learning_rate=5e-3"
   ]
  },
  {
   "cell_type": "code",
   "execution_count": 30,
   "metadata": {},
   "outputs": [
    {
     "name": "stdout",
     "output_type": "stream",
     "text": [
      "Epochs: 0\tLoss:0.72463 \tTraing accuracy:0.45455 \tTesting accuracy:0.34000\n",
      "Epochs: 100\tLoss:0.58224 \tTraing accuracy:0.68421 \tTesting accuracy:0.34000\n",
      "Epochs: 200\tLoss:0.46335 \tTraing accuracy:0.81818 \tTesting accuracy:0.44000\n",
      "Epochs: 300\tLoss:0.37246 \tTraing accuracy:0.89952 \tTesting accuracy:0.62000\n",
      "Epochs: 400\tLoss:0.32947 \tTraing accuracy:0.91866 \tTesting accuracy:0.70000\n",
      "Epochs: 500\tLoss:0.30155 \tTraing accuracy:0.92823 \tTesting accuracy:0.72000\n",
      "Epochs: 600\tLoss:0.27835 \tTraing accuracy:0.93780 \tTesting accuracy:0.74000\n",
      "Epochs: 700\tLoss:0.25866 \tTraing accuracy:0.94258 \tTesting accuracy:0.74000\n",
      "Epochs: 800\tLoss:0.24167 \tTraing accuracy:0.95694 \tTesting accuracy:0.74000\n",
      "Epochs: 900\tLoss:0.22683 \tTraing accuracy:0.96172 \tTesting accuracy:0.76000\n"
     ]
    }
   ],
   "source": [
    "params = initialize_neural_network(x_train)\n",
    "\n",
    "for i in range(epochs):\n",
    "    cache=forward_prop(x_train,params)\n",
    "    loss=calculate_loss(cache,y_train)\n",
    "    updates=backward_prop(x_train,y_train,cache)\n",
    "    params=update_weights(params,updates,learning_rate=learning_rate)\n",
    "    \n",
    "    if i%(epochs/10)==0:\n",
    "        print('Epochs: {}\\tLoss:{:.5f}'.format(i,loss),end=\" \")\n",
    "        train_cache=np.where(cache['a']>0.5,1,0)\n",
    "        print('\\tTraing accuracy:{:.5f}'.format(accuracy_score(y_train,train_cache)),end=\" \")\n",
    "        test_cache=forward_prop(x_test,params)['a']\n",
    "        test_cache=np.where(test_cache>=0.5,1,0)\n",
    "        print('\\tTesting accuracy:{:.5f}'.format(accuracy_score(y_test,test_cache)))"
   ]
  },
  {
   "cell_type": "code",
   "execution_count": null,
   "metadata": {},
   "outputs": [],
   "source": []
  }
 ],
 "metadata": {
  "kernelspec": {
   "display_name": "Python 3",
   "language": "python",
   "name": "python3"
  },
  "language_info": {
   "codemirror_mode": {
    "name": "ipython",
    "version": 3
   },
   "file_extension": ".py",
   "mimetype": "text/x-python",
   "name": "python",
   "nbconvert_exporter": "python",
   "pygments_lexer": "ipython3",
   "version": "3.8.3"
  }
 },
 "nbformat": 4,
 "nbformat_minor": 4
}
